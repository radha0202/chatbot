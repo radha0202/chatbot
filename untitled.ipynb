{
 "cells": [
  {
   "cell_type": "code",
   "execution_count": null,
   "id": "23a1642d",
   "metadata": {},
   "outputs": [
    {
     "name": "stdout",
     "output_type": "stream",
     "text": [
      "You: HI\n",
      "adij:How can i help you\n",
      "You: hello\n",
      "adij:How can i help you\n",
      "You: name\n",
      "adij: i am simply chatbot created for helping you\n"
     ]
    }
   ],
   "source": [
    "def chatbot():\n",
    "\tprint(\"I am chatbot...!\")\n",
    "\t\n",
    "while True:\n",
    "\tuser_input = input(\"You: \").lower()\n",
    "\t\n",
    "\tif user_input == 'exit':\n",
    "\t\tprint(\"adij: Goodbye \")\n",
    "\t\tbreak\n",
    "\t\t\n",
    "\telif \"hi\" in user_input or \"hello\" in user_input:\n",
    "\t\tprint(\"adij:How can i help you\")\n",
    "\t\t\n",
    "\telif \"ravan\" in user_input:\n",
    "\t\tprint(\"adij:how can i assist you \")\t\n",
    "\t\t\n",
    "\t\t\n",
    "\telif \"name\" in user_input:\n",
    "\t\tprint(\"adij: i am simply chatbot created for helping you\")\n",
    "\t\n",
    "\telse :\n",
    "\t\tprint(\"adij: I don`t understand that , i am learning\")\n",
    "\t\t\n",
    "if _name == \"_main\":\n",
    "\tchatbot()\n",
    "\t\t\n"
   ]
  },
  {
   "cell_type": "code",
   "execution_count": null,
   "id": "e2769948",
   "metadata": {},
   "outputs": [],
   "source": []
  }
 ],
 "metadata": {
  "kernelspec": {
   "display_name": "Python 3 (ipykernel)",
   "language": "python",
   "name": "python3"
  },
  "language_info": {
   "codemirror_mode": {
    "name": "ipython",
    "version": 3
   },
   "file_extension": ".py",
   "mimetype": "text/x-python",
   "name": "python",
   "nbconvert_exporter": "python",
   "pygments_lexer": "ipython3",
   "version": "3.9.12"
  }
 },
 "nbformat": 4,
 "nbformat_minor": 5
}
